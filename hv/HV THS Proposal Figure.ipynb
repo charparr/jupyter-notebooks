{
 "cells": [
  {
   "cell_type": "code",
   "execution_count": 218,
   "metadata": {
    "scrolled": false
   },
   "outputs": [
    {
     "name": "stdout",
     "output_type": "stream",
     "text": [
      "Using matplotlib backend: Qt5Agg\n"
     ]
    }
   ],
   "source": [
    "import rasterio\n",
    "import numpy as np\n",
    "import matplotlib\n",
    "import matplotlib.pyplot as plt\n",
    "import fiona\n",
    "from rasterio.mask import mask\n",
    "from rasterio.plot import show\n",
    "from shapely.geometry import Polygon\n",
    "from scipy.ndimage.filters import median_filter, gaussian_filter, gaussian_filter1d\n",
    "%matplotlib"
   ]
  },
  {
   "cell_type": "code",
   "execution_count": 104,
   "metadata": {},
   "outputs": [
    {
     "data": {
      "text/plain": [
       "{'count': 1,\n",
       " 'crs': CRS({'init': 'epsg:32606'}),\n",
       " 'driver': 'GTiff',\n",
       " 'dtype': 'float32',\n",
       " 'height': 11360,\n",
       " 'nodata': nan,\n",
       " 'transform': Affine(1.0, 0.0, 421845.75,\n",
       "       0.0, -1.0, 7673711.25),\n",
       " 'width': 2340}"
      ]
     },
     "execution_count": 104,
     "metadata": {},
     "output_type": "execute_result"
    }
   ],
   "source": [
    "dem =rasterio.open('/home/cparr/surfaces/level_1_surfaces/hv/bare_earth/hv_dem_final.tif')\n",
    "dem.meta"
   ]
  },
  {
   "cell_type": "code",
   "execution_count": 17,
   "metadata": {
    "scrolled": false
   },
   "outputs": [
    {
     "data": {
      "text/plain": [
       "{'count': 1,\n",
       " 'crs': CRS({'init': 'epsg:32606'}),\n",
       " 'driver': 'GTiff',\n",
       " 'dtype': 'float32',\n",
       " 'height': 11360,\n",
       " 'nodata': nan,\n",
       " 'transform': Affine(1.0, 0.0, 421845.75,\n",
       "       0.0, -1.0, 7673711.25),\n",
       " 'width': 2340}"
      ]
     },
     "execution_count": 17,
     "metadata": {},
     "output_type": "execute_result"
    }
   ],
   "source": [
    "src17 = rasterio.open('/home/cparr/surfaces/depth_ddems/hv_version2/hv_depth_apr12_2017.tif')\n",
    "src17.meta"
   ]
  },
  {
   "cell_type": "code",
   "execution_count": 18,
   "metadata": {},
   "outputs": [
    {
     "data": {
      "text/plain": [
       "{'count': 1,\n",
       " 'crs': CRS({'init': 'epsg:32606'}),\n",
       " 'driver': 'GTiff',\n",
       " 'dtype': 'float32',\n",
       " 'height': 11360,\n",
       " 'nodata': nan,\n",
       " 'transform': Affine(1.0, 0.0, 421845.8,\n",
       "       0.0, -1.0, 7673711.2),\n",
       " 'width': 2340}"
      ]
     },
     "execution_count": 18,
     "metadata": {},
     "output_type": "execute_result"
    }
   ],
   "source": [
    "src16 = rasterio.open('/home/cparr/surfaces/depth_ddems/hv_version2/hv_depth_096_2016.tif')\n",
    "src16.meta"
   ]
  },
  {
   "cell_type": "code",
   "execution_count": 19,
   "metadata": {},
   "outputs": [
    {
     "data": {
      "text/plain": [
       "{'count': 1,\n",
       " 'crs': CRS({'init': 'epsg:32606'}),\n",
       " 'driver': 'GTiff',\n",
       " 'dtype': 'float32',\n",
       " 'height': 11360,\n",
       " 'nodata': nan,\n",
       " 'transform': Affine(1.0, 0.0, 421845.8,\n",
       "       0.0, -1.0, 7673711.2),\n",
       " 'width': 2340}"
      ]
     },
     "execution_count": 19,
     "metadata": {},
     "output_type": "execute_result"
    }
   ],
   "source": [
    "src15 = rasterio.open('/home/cparr/surfaces/depth_ddems/hv_version2/hv_depth_096_2015.tif')\n",
    "src15.meta"
   ]
  },
  {
   "cell_type": "code",
   "execution_count": 113,
   "metadata": {
    "scrolled": false
   },
   "outputs": [
    {
     "data": {
      "text/plain": [
       "<matplotlib.axes._subplots.AxesSubplot at 0x7f016c05f198>"
      ]
     },
     "execution_count": 113,
     "metadata": {},
     "output_type": "execute_result"
    }
   ],
   "source": [
    "show(src17, cmap ='coolwarm',vmin=0,vmax=2)"
   ]
  },
  {
   "cell_type": "code",
   "execution_count": 133,
   "metadata": {
    "collapsed": true,
    "scrolled": false
   },
   "outputs": [],
   "source": [
    "def crop_and_test(src, center, size, title):\n",
    "    \n",
    "    '''\n",
    "    This function is responsible for creating a subset of the full dataset and then testing\n",
    "    different thresholds by masking out data at that threshold.\n",
    "    The function returns a few plots and a DataFrame which stores the results.\n",
    "    '''\n",
    "    \n",
    "    # Generate a square polygon to crop the full domain\n",
    "    center_x = center[0]\n",
    "    center_y = center[1]\n",
    "    \n",
    "    poly = Polygon([(center_x-(size / 2), center_y-(size / 2)),\n",
    "           (center_x - (size / 2), center_y + (size / 2)),\n",
    "           (center_x + (size / 2), center_y + (size / 2)),\n",
    "           (center_x + (size / 2), center_y - (size / 2)),\n",
    "           (center_x - (size / 2), center_y - (size / 2))])\n",
    "    \n",
    "    geom = [p for p in poly.boundary.coords]\n",
    "    cropper = [{'coordinates': [geom],\n",
    "              'type': 'Polygon'}]\n",
    "    \n",
    "    # Crop it and return the cropped data and affine transform\n",
    "    out_image, out_transform = mask(src, cropper, crop=True)\n",
    "    out_meta = src.meta.copy()\n",
    "    \n",
    "    # Calculate some stats\n",
    "    mu = np.nanmean(out_image.data[0])\n",
    "    sigma = np.nanstd(out_image.data[0])\n",
    "    dmin = np.nanmin(out_image.data[0])\n",
    "    dmax = np.nanmax(out_image.data[0])\n",
    "    \n",
    "    surface = out_image.data[0]\n",
    "    surface = np.nan_to_num(surface)\n",
    "\n",
    "    \n",
    "    # Generate Figures\n",
    "    \n",
    "    plt.figure(figsize = (16,10))\n",
    "    ax=plt.subplot(111)\n",
    "    \n",
    "    plt.imshow(median_filter(out_image.data[0], 2), cmap='coolwarm', vmin = 0, vmax = 1)\n",
    "    \n",
    "    ax.set_ylabel('m')\n",
    "    ax.set_xlabel('m')\n",
    "    plt.title(title +'\\n'+ \n",
    "              \"$\\mu=%.2f$, $\\sigma=%.2f$\"  %(mu,sigma))\n",
    "    plt.colorbar()\n",
    "    \n",
    "    return surface, mu, sigma"
   ]
  },
  {
   "cell_type": "code",
   "execution_count": 204,
   "metadata": {
    "scrolled": false
   },
   "outputs": [],
   "source": [
    "#polygons = (422800, 7669000)\n",
    "polygons = (423260, 7664500)\n",
    "poly17 = crop_and_test(center=polygons, size=1000, src=src17, title='Polygons 2017 [m]')"
   ]
  },
  {
   "cell_type": "code",
   "execution_count": 205,
   "metadata": {
    "scrolled": false
   },
   "outputs": [],
   "source": [
    "poly16 = crop_and_test(center=polygons, size=1000, src=src16, title='Polygons 2016 [m]')"
   ]
  },
  {
   "cell_type": "code",
   "execution_count": 206,
   "metadata": {
    "scrolled": false
   },
   "outputs": [],
   "source": [
    "poly15 = crop_and_test(center=polygons, size=1000, src=src15, title='Polygons 2015 [m]')"
   ]
  },
  {
   "cell_type": "code",
   "execution_count": 207,
   "metadata": {
    "collapsed": true
   },
   "outputs": [],
   "source": [
    "hv_dem = crop_and_test(center=polygons, size=1000, src=dem, title='Polygons 2015 [m]')[0]"
   ]
  },
  {
   "cell_type": "code",
   "execution_count": 202,
   "metadata": {},
   "outputs": [],
   "source": [
    "fig = plt.figure(figsize = (8,5))\n",
    "fig.subplots_adjust(wspace=0.05, hspace=0.05)\n",
    "\n",
    "ax1 = fig.add_subplot(131)\n",
    "im1 = ax1.imshow(median_filter(poly15[0],3), cmap='coolwarm', vmin=0,vmax=1.5)\n",
    "ax1.set_ylabel('m')\n",
    "ax1.set_xlabel('m')\n",
    "ax1.set_xticks([0,200,400])\n",
    "mu = poly15[1]\n",
    "sigma = poly15[2]\n",
    "title = '2015'\n",
    "ax1.set_title(title +'\\n'+ \n",
    "          \"$\\mu=%.2f$, $\\sigma=%.2f$\"  %(mu,sigma))\n",
    "\n",
    "ax2 = fig.add_subplot(132)\n",
    "ax2.set_xticks([])\n",
    "ax2.set_yticks([])\n",
    "im2 = ax2.imshow(median_filter(poly16[0],3), cmap='coolwarm', vmin=0,vmax=1.5)\n",
    "mu = poly16[1]\n",
    "sigma = poly16[2]\n",
    "title = '2016'\n",
    "ax2.set_title(title +'\\n'+ \n",
    "          \"$\\mu=%.2f$, $\\sigma=%.2f$\"  %(mu,sigma))\n",
    "\n",
    "ax3 = fig.add_subplot(133)\n",
    "ax3.set_xticks([])\n",
    "ax3.set_yticks([])\n",
    "im3 = ax3.imshow(median_filter(poly17[0],3), cmap='coolwarm', vmin=0,vmax=1.5)\n",
    "mu = poly17[1]\n",
    "sigma = poly17[2]\n",
    "title = '2017'\n",
    "ax3.set_title(title +'\\n'+ \n",
    "          \"$\\mu=%.2f$, $\\sigma=%.2f$\"  %(mu,sigma))\n",
    "\n",
    "cax = fig.add_axes( [0.25, 0.05, 0.5, 0.055] )\n",
    "fig.colorbar( im1, cax=cax, ticks = ([0,0.5,1.0,1.5,1]), orientation='horizontal' )\n",
    "cax.tick_params(labelsize = 12)\n",
    "\n",
    "#fig.savefig('/home/cparr/Snow_Patterns/figures/hv_proposal_figure_wt.png',bbox_inches='tight',dpi=300) #"
   ]
  },
  {
   "cell_type": "code",
   "execution_count": 175,
   "metadata": {},
   "outputs": [],
   "source": []
  },
  {
   "cell_type": "code",
   "execution_count": 221,
   "metadata": {},
   "outputs": [],
   "source": [
    "dem_line = gaussian_filter(hv_dem,0.5)[700][20:215]\n",
    "line17 = gaussian_filter(poly17[0],0.5)[700][20:215]\n",
    "line16 = gaussian_filter(poly16[0],0.5)[700][20:215]\n",
    "line15 = gaussian_filter(poly15[0],0.5)[700][20:215]\n",
    "\n",
    "\n",
    "\n",
    "fig = plt.figure(figsize=(11,5))\n",
    "fig.subplots_adjust(wspace=0.3)\n",
    "ax1 = fig.add_subplot(121)\n",
    "\n",
    "ax1.plot(dem_line - 0.1, label='Ground',color='black')\n",
    "ax1.plot(dem_line+line17, label='2017 Snow')\n",
    "ax1.plot(dem_line+line16, label='2016 Snow')\n",
    "ax1.plot(dem_line+line15, label='2015 Snow')\n",
    "ax1.set_xlabel('Distance [m]')\n",
    "ax1.set_ylabel('Elevation [m]')\n",
    "ax1.set_xlim(0,195)\n",
    "ax1.set_ylim(377,395)\n",
    "\n",
    "x=np.arange(0,195,1)\n",
    "ax1.fill_between(x, 375, dem_line-0.1, alpha=0.5, color='sienna')\n",
    "ax1.legend(fontsize=12)\n",
    "\n",
    "ax2 = fig.add_subplot(122)\n",
    "ax2.plot(gaussian_filter1d(line17,1), label='2017 Snow')\n",
    "ax2.plot(gaussian_filter1d(line16,1), label='2016 Snow')\n",
    "ax2.plot(gaussian_filter1d(line15,1), label='2015 Snow')\n",
    "ax2.set_xlabel('Distance [m]')\n",
    "ax2.set_ylabel('Snow Depth [m]')\n",
    "ax2.set_xlim(0,195)\n",
    "ax2.set_ylim(0,1.5)\n",
    "ax2.set_yticks([0,0.25,0.5,0.75,1,1.25,1.5])\n",
    "ax2.legend(fontsize=12)\n",
    "\n",
    "\n",
    "fig.savefig('/home/cparr/Snow_Patterns/figures/hv_lake_drift_profiles.png',dpi=300)"
   ]
  },
  {
   "cell_type": "code",
   "execution_count": null,
   "metadata": {
    "collapsed": true
   },
   "outputs": [],
   "source": []
  }
 ],
 "metadata": {
  "kernelspec": {
   "display_name": "Python 3",
   "language": "python",
   "name": "python3"
  },
  "language_info": {
   "codemirror_mode": {
    "name": "ipython",
    "version": 3
   },
   "file_extension": ".py",
   "mimetype": "text/x-python",
   "name": "python",
   "nbconvert_exporter": "python",
   "pygments_lexer": "ipython3",
   "version": "3.6.1"
  }
 },
 "nbformat": 4,
 "nbformat_minor": 2
}
